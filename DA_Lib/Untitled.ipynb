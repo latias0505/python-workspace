{
 "cells": [
  {
   "cell_type": "markdown",
   "id": "0a9971f7",
   "metadata": {},
   "source": [
    "#    판다스를 시작해 봅시다"
   ]
  },
  {
   "cell_type": "code",
   "execution_count": 2,
   "id": "5b253b80",
   "metadata": {},
   "outputs": [
    {
     "name": "stdout",
     "output_type": "stream",
     "text": [
      "Requirement already satisfied: pandas in c:\\users\\user\\anaconda3\\lib\\site-packages (1.5.3)\n",
      "Requirement already satisfied: python-dateutil>=2.8.1 in c:\\users\\user\\anaconda3\\lib\\site-packages (from pandas) (2.8.2)\n",
      "Requirement already satisfied: pytz>=2020.1 in c:\\users\\user\\anaconda3\\lib\\site-packages (from pandas) (2022.7)\n",
      "Requirement already satisfied: numpy>=1.21.0 in c:\\users\\user\\anaconda3\\lib\\site-packages (from pandas) (1.24.3)\n",
      "Requirement already satisfied: six>=1.5 in c:\\users\\user\\anaconda3\\lib\\site-packages (from python-dateutil>=2.8.1->pandas) (1.16.0)\n"
     ]
    }
   ],
   "source": [
    "!pip install pandas"
   ]
  },
  {
   "cell_type": "markdown",
   "id": "7bb6dad0",
   "metadata": {},
   "source": [
    "# 판다스 import하기"
   ]
  },
  {
   "cell_type": "code",
   "execution_count": 6,
   "id": "1383f4ef",
   "metadata": {},
   "outputs": [],
   "source": [
    "# pandas impord\n",
    "import pandas as pd"
   ]
  },
  {
   "cell_type": "code",
   "execution_count": 9,
   "id": "ce20c898",
   "metadata": {},
   "outputs": [
    {
     "name": "stdout",
     "output_type": "stream",
     "text": [
      "10\n",
      "15\n"
     ]
    }
   ],
   "source": [
    "n = 10\n",
    "m = 15\n",
    "print(n)\n",
    "print(m)"
   ]
  },
  {
   "cell_type": "markdown",
   "id": "4390f983",
   "metadata": {},
   "source": [
    "# 1. 시리즈를 다루어 봅시다"
   ]
  },
  {
   "cell_type": "code",
   "execution_count": 10,
   "id": "ed5ddf31",
   "metadata": {},
   "outputs": [
    {
     "data": {
      "text/plain": [
       "0    1\n",
       "1    2\n",
       "2    3\n",
       "3    4\n",
       "4    5\n",
       "dtype: int64"
      ]
     },
     "execution_count": 10,
     "metadata": {},
     "output_type": "execute_result"
    }
   ],
   "source": [
    "srdata = pd.Series([1,2, 3, 4, 5])\n",
    "srdata"
   ]
  },
  {
   "cell_type": "code",
   "execution_count": 11,
   "id": "be620170",
   "metadata": {},
   "outputs": [
    {
     "data": {
      "text/plain": [
       "a    1\n",
       "b    2\n",
       "c    3\n",
       "d    4\n",
       "e    5\n",
       "dtype: int64"
      ]
     },
     "execution_count": 11,
     "metadata": {},
     "output_type": "execute_result"
    }
   ],
   "source": [
    "list_data = [1, 2, 3, 4, 5]\n",
    "list_name = [\"a\", \"b\", \"c\", \"d\", \"e\"]\n",
    "srdata2 = pd.Series(data = list_data, index = list_name)\n",
    "srdata2"
   ]
  },
  {
   "cell_type": "code",
   "execution_count": 12,
   "id": "b1232a39",
   "metadata": {},
   "outputs": [
    {
     "data": {
      "text/plain": [
       "Index(['a', 'b', 'c', 'd', 'e'], dtype='object')"
      ]
     },
     "execution_count": 12,
     "metadata": {},
     "output_type": "execute_result"
    }
   ],
   "source": [
    "srdata2.index"
   ]
  },
  {
   "cell_type": "code",
   "execution_count": 13,
   "id": "6120526e",
   "metadata": {},
   "outputs": [
    {
     "data": {
      "text/plain": [
       "array([1, 2, 3, 4, 5], dtype=int64)"
      ]
     },
     "execution_count": 13,
     "metadata": {},
     "output_type": "execute_result"
    }
   ],
   "source": [
    "srdata2.values"
   ]
  },
  {
   "cell_type": "code",
   "execution_count": 14,
   "id": "c2b4ad9c",
   "metadata": {},
   "outputs": [
    {
     "ename": "NameError",
     "evalue": "name 'srdate2' is not defined",
     "output_type": "error",
     "traceback": [
      "\u001b[1;31m---------------------------------------------------------------------------\u001b[0m",
      "\u001b[1;31mNameError\u001b[0m                                 Traceback (most recent call last)",
      "Cell \u001b[1;32mIn[14], line 2\u001b[0m\n\u001b[0;32m      1\u001b[0m srdata2\u001b[38;5;241m.\u001b[39mname \u001b[38;5;241m=\u001b[39m \u001b[38;5;124m\"\u001b[39m\u001b[38;5;124mnumber\u001b[39m\u001b[38;5;124m\"\u001b[39m\n\u001b[1;32m----> 2\u001b[0m srdate2\u001b[38;5;241m.\u001b[39mindex\u001b[38;5;241m.\u001b[39mname \u001b[38;5;241m=\u001b[39m \u001b[38;5;124m\"\u001b[39m\u001b[38;5;124mid\u001b[39m\u001b[38;5;124m\"\u001b[39m\n\u001b[0;32m      3\u001b[0m srdata2\n",
      "\u001b[1;31mNameError\u001b[0m: name 'srdate2' is not defined"
     ]
    }
   ],
   "source": [
    "srdata2.name = \"number\"\n",
    "srdate2.index.name = \"id\"\n",
    "srdata2"
   ]
  },
  {
   "cell_type": "code",
   "execution_count": 15,
   "id": "a8987a50",
   "metadata": {},
   "outputs": [
    {
     "ename": "NameError",
     "evalue": "name 'pandas' is not defined",
     "output_type": "error",
     "traceback": [
      "\u001b[1;31m---------------------------------------------------------------------------\u001b[0m",
      "\u001b[1;31mNameError\u001b[0m                                 Traceback (most recent call last)",
      "Cell \u001b[1;32mIn[15], line 1\u001b[0m\n\u001b[1;32m----> 1\u001b[0m pandas\u001b[38;5;241m.\u001b[39mcore\u001b[38;5;241m.\u001b[39mseries\u001b[38;5;241m.\u001b[39mSeries\n",
      "\u001b[1;31mNameError\u001b[0m: name 'pandas' is not defined"
     ]
    }
   ],
   "source": [
    "pandas.core.series.Series"
   ]
  },
  {
   "cell_type": "code",
   "execution_count": 16,
   "id": "f97b68fb",
   "metadata": {},
   "outputs": [
    {
     "ename": "NameError",
     "evalue": "name 'srdate2' is not defined",
     "output_type": "error",
     "traceback": [
      "\u001b[1;31m---------------------------------------------------------------------------\u001b[0m",
      "\u001b[1;31mNameError\u001b[0m                                 Traceback (most recent call last)",
      "Cell \u001b[1;32mIn[16], line 2\u001b[0m\n\u001b[0;32m      1\u001b[0m srdata2\u001b[38;5;241m.\u001b[39mname \u001b[38;5;241m=\u001b[39m \u001b[38;5;124m\"\u001b[39m\u001b[38;5;124mvalue\u001b[39m\u001b[38;5;124m\"\u001b[39m\n\u001b[1;32m----> 2\u001b[0m srdate2\u001b[38;5;241m.\u001b[39mindex\u001b[38;5;241m.\u001b[39mname \u001b[38;5;241m=\u001b[39m \u001b[38;5;124m\"\u001b[39m\u001b[38;5;124mid\u001b[39m\u001b[38;5;124m\"\u001b[39m\n\u001b[0;32m      3\u001b[0m srdata2\n",
      "\u001b[1;31mNameError\u001b[0m: name 'srdate2' is not defined"
     ]
    }
   ],
   "source": [
    "srdata2.name = \"value\"\n",
    "srdate2.index.name = \"id\"\n",
    "srdata2"
   ]
  },
  {
   "cell_type": "code",
   "execution_count": 17,
   "id": "8959781c",
   "metadata": {},
   "outputs": [
    {
     "data": {
      "text/plain": [
       "id\n",
       "a    1\n",
       "b    2\n",
       "c    3\n",
       "d    4\n",
       "e    5\n",
       "Name: number, dtype: int64"
      ]
     },
     "execution_count": 17,
     "metadata": {},
     "output_type": "execute_result"
    }
   ],
   "source": [
    "srdata2.name = \"number\"\n",
    "srdata2.index.name = \"id\"\n",
    "srdata2"
   ]
  },
  {
   "cell_type": "code",
   "execution_count": 18,
   "id": "439d4ae6",
   "metadata": {},
   "outputs": [
    {
     "data": {
      "text/plain": [
       "id\n",
       "a    1\n",
       "b    2\n",
       "c    3\n",
       "d    4\n",
       "e    5\n",
       "Name: value, dtype: int64"
      ]
     },
     "execution_count": 18,
     "metadata": {},
     "output_type": "execute_result"
    }
   ],
   "source": [
    "srdata2.name = \"value\"\n",
    "srdata2.index.name = \"id\"\n",
    "srdata2"
   ]
  },
  {
   "cell_type": "code",
   "execution_count": 19,
   "id": "e974fe07",
   "metadata": {},
   "outputs": [
    {
     "ename": "NameError",
     "evalue": "name 'pandas' is not defined",
     "output_type": "error",
     "traceback": [
      "\u001b[1;31m---------------------------------------------------------------------------\u001b[0m",
      "\u001b[1;31mNameError\u001b[0m                                 Traceback (most recent call last)",
      "Cell \u001b[1;32mIn[19], line 1\u001b[0m\n\u001b[1;32m----> 1\u001b[0m pandas\u001b[38;5;241m.\u001b[39mcore\u001b[38;5;241m.\u001b[39mseries\u001b[38;5;241m.\u001b[39mSeries\n",
      "\u001b[1;31mNameError\u001b[0m: name 'pandas' is not defined"
     ]
    }
   ],
   "source": [
    "pandas.core.series.Series"
   ]
  },
  {
   "cell_type": "code",
   "execution_count": 22,
   "id": "659a0146",
   "metadata": {},
   "outputs": [
    {
     "data": {
      "text/plain": [
       "a    1.0\n",
       "b    2.0\n",
       "c    3.0\n",
       "d    4.0\n",
       "e    5.0\n",
       "Name: dictData, dtype: float64"
      ]
     },
     "execution_count": 22,
     "metadata": {},
     "output_type": "execute_result"
    }
   ],
   "source": [
    "from pandas import Series\n",
    "dict_data = {\"a\":1, \"b\":2, \"c\":3, \"d\":4, \"e\":5}\n",
    "sr_dd = Series(dict_data, dtype=float, name=\"dictData\")\n",
    "sr_dd"
   ]
  },
  {
   "cell_type": "code",
   "execution_count": 25,
   "id": "335a79ac",
   "metadata": {},
   "outputs": [
    {
     "data": {
      "text/plain": [
       "A   NaN\n",
       "B   NaN\n",
       "C   NaN\n",
       "D   NaN\n",
       "E   NaN\n",
       "F   NaN\n",
       "G   NaN\n",
       "H   NaN\n",
       "dtype: float64"
      ]
     },
     "execution_count": 25,
     "metadata": {},
     "output_type": "execute_result"
    }
   ],
   "source": [
    "indexes = [\"A\", \"B\", \"C\", \"D\", \"E\", \"F\", \"G\", \"H\"]\n",
    "srobj = Series(dict_data, index = indexes)\n",
    "srobj"
   ]
  },
  {
   "cell_type": "code",
   "execution_count": 26,
   "id": "20e36097",
   "metadata": {},
   "outputs": [
    {
     "data": {
      "text/plain": [
       "이름              영인\n",
       "생년월일    2010-05-01\n",
       "성별               여\n",
       "학생여부          True\n",
       "dtype: object"
      ]
     },
     "execution_count": 26,
     "metadata": {},
     "output_type": "execute_result"
    }
   ],
   "source": [
    "tup_data = ('영인', '2010-05-01', '여', True)\n",
    "srdata = Series(tup_data, index = ['이름', '생년월일', '성별', '학생여부'])\n",
    "srdata"
   ]
  },
  {
   "cell_type": "code",
   "execution_count": 27,
   "id": "aa2721d8",
   "metadata": {},
   "outputs": [
    {
     "data": {
      "text/plain": [
       "'영인'"
      ]
     },
     "execution_count": 27,
     "metadata": {},
     "output_type": "execute_result"
    }
   ],
   "source": [
    "srdata[0]"
   ]
  },
  {
   "cell_type": "code",
   "execution_count": 31,
   "id": "c99050fd",
   "metadata": {},
   "outputs": [
    {
     "name": "stdout",
     "output_type": "stream",
     "text": [
      "생년월일    2010-05-01\n",
      "성별               여\n",
      "학생여부          True\n",
      "dtype: object \n",
      "\n",
      "생년월일    2010-05-01\n",
      "성별               여\n",
      "학생여부          True\n",
      "dtype: object\n"
     ]
    }
   ],
   "source": [
    "print(srdata[1: 4], '\\n')\n",
    "print(srdata['생년월일': '학생여부'])"
   ]
  },
  {
   "cell_type": "code",
   "execution_count": null,
   "id": "1ea9c57a",
   "metadata": {},
   "outputs": [],
   "source": []
  }
 ],
 "metadata": {
  "kernelspec": {
   "display_name": "Python 3 (ipykernel)",
   "language": "python",
   "name": "python3"
  },
  "language_info": {
   "codemirror_mode": {
    "name": "ipython",
    "version": 3
   },
   "file_extension": ".py",
   "mimetype": "text/x-python",
   "name": "python",
   "nbconvert_exporter": "python",
   "pygments_lexer": "ipython3",
   "version": "3.11.4"
  }
 },
 "nbformat": 4,
 "nbformat_minor": 5
}
